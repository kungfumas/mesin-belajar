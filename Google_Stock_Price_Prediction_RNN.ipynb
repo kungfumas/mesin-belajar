{
  "nbformat": 4,
  "nbformat_minor": 0,
  "metadata": {
    "colab": {
      "name": "Google Stock Price Prediction RNN",
      "provenance": [],
      "collapsed_sections": []
    },
    "kernelspec": {
      "name": "python3",
      "display_name": "Python 3"
    },
    "accelerator": "GPU"
  },
  "cells": [
    {
      "metadata": {
        "id": "kRO9n1MJVlHv"
      },
      "cell_type": "markdown",
      "source": [
        "LSTM that predicts upwards and downwards trend of google stockprice \n",
        "Many layers with dropout regularisation to prevent overfitting"
      ]
    },
    {
      "metadata": {
        "id": "UCsb2gWesFOS"
      },
      "cell_type": "markdown",
      "source": [
        "Part 1 - Data Preprocessing"
      ]
    },
    {
      "metadata": {
        "id": "UTEkX8bcqioW"
      },
      "cell_type": "code",
      "source": [
        "# Importing the libraries\n",
        "import numpy as np #allow to make arrays\n",
        "import matplotlib.pyplot as plt #visualize results on charts \n",
        "import pandas as pd #import dataset and manage easily"
      ],
      "execution_count": 10,
      "outputs": []
    },
    {
      "metadata": {
        "id": "21jugdesW5-7"
      },
      "cell_type": "code",
      "source": [
        "# Importing the training set - only importing training set, test set later  on \n",
        "#rnn has no idea of the test set's data, then after training is done, test set will eb important\n",
        "dataset_train = pd.read_csv('https://raw.githubusercontent.com/Parasgr7/Google-Stock-Price-Prediction/master/Google_Stock_Price_Train.csv')\n",
        "\n",
        "#need to make into numpy arrays because only nump arrays can be input values in keras\n",
        "training_set = dataset_train.iloc[:, 1:2].values \n",
        "\n",
        "#getting everything from the columns (.values makes the numpy array)"
      ],
      "execution_count": 11,
      "outputs": []
    },
    {
      "cell_type": "code",
      "source": [
        "dataset_train.shape"
      ],
      "metadata": {
        "colab": {
          "base_uri": "https://localhost:8080/"
        },
        "id": "LKMZElqHF1mo",
        "outputId": "824e1379-24ce-4b6a-e885-f23e5c74214f"
      },
      "execution_count": 12,
      "outputs": [
        {
          "output_type": "execute_result",
          "data": {
            "text/plain": [
              "(1258, 6)"
            ]
          },
          "metadata": {},
          "execution_count": 12
        }
      ]
    },
    {
      "metadata": {
        "id": "pZi462V1qsPK"
      },
      "cell_type": "code",
      "source": [
        "# Feature Scaling\n",
        "#2 ways: take obs- min ofstock prices/max of stock prices- min of stock prices\n",
        "#using normalization instead of standardisation- look at meaning\n",
        "from sklearn.preprocessing import MinMaxScaler\n",
        "sc = MinMaxScaler(feature_range = (0, 1))\n",
        "training_set_scaled = sc.fit_transform(training_set) #fit (gets min and max on data to apply formula) tranform(compute scale stock prices to each formula)"
      ],
      "execution_count": 13,
      "outputs": []
    },
    {
      "metadata": {
        "id": "9C4BE-F1sLpZ"
      },
      "cell_type": "code",
      "source": [
        "# Creating a data structure with 60 timesteps and 1 output\n",
        "#60 times steps- at each time t and look at 60 previous time steps, then make new prediction \n",
        "# 1 time step leads to overfitting, 20 is still too low\n",
        "#60 previous financial days- in 3 months \n",
        "X_train = []\n",
        "y_train = []\n",
        "for i in range(60, 1258): # upper bound is number of values \n",
        "  X_train.append(training_set_scaled[i-60:i, 0]) #takes 60 previous stock prices from 60 past stock prices\n",
        "  y_train.append(training_set_scaled[i, 0]) #contains stock price learned to predict \n",
        "X_train, y_train = np.array(X_train), np.array(y_train) # make into numpy arrays \n",
        "#Need to add dimension to because not only prescition with one stock price but other indicators (like other columns in dataset  or other stocks that may affect this one )"
      ],
      "execution_count": 14,
      "outputs": []
    },
    {
      "metadata": {
        "id": "k_fnQGmSvfTu"
      },
      "cell_type": "code",
      "source": [
        "# Reshaping- add dimension in numpy array \n",
        "X_train = np.reshape(X_train, (X_train.shape[0], X_train.shape[1], 1)) #adds dimension in numpy array\n",
        "#currently only have one indicator, with new dimension will have more indicators, be compatible for \"input shape\" of RNN\n",
        "# format according to keras documentation \n"
      ],
      "execution_count": 15,
      "outputs": []
    },
    {
      "metadata": {
        "id": "j3EQlGCOvhzE"
      },
      "cell_type": "markdown",
      "source": [
        "Part 2 - Building the RNN \n",
        "stacked lstm with dropout regularization to prevent overfitting"
      ]
    },
    {
      "metadata": {
        "id": "4trYuBUXvuB5"
      },
      "cell_type": "code",
      "source": [
        "# Importing the Keras libraries and packages\n",
        "from keras.models import Sequential\n",
        "from keras.layers import Dense\n",
        "from keras.layers import LSTM\n",
        "from keras.layers import Dropout"
      ],
      "execution_count": 16,
      "outputs": []
    },
    {
      "metadata": {
        "id": "Oy4m0z1svv4N"
      },
      "cell_type": "code",
      "source": [
        "# Initialising the RNN\n",
        "regressor = Sequential() #reps sequence of layers, predicting continous values (so it is a regression)"
      ],
      "execution_count": 17,
      "outputs": []
    },
    {
      "metadata": {
        "id": "fWQQNeG_vwXV"
      },
      "cell_type": "code",
      "source": [
        "# Adding the first LSTM layer and some Dropout regularisation\n",
        "#dropout to prevent overfitting\n",
        "regressor.add(LSTM(units = 50, return_sequences = True, input_shape = (X_train.shape[1], 1)))#regressor- object of sequential class, can add layers to networ.\n",
        "#use lstm class and create object of lstm class- 3 args\n",
        "#num of units, return sequences- set to true because is stacked lstms, and shape\n",
        "#units- neurons in first layer. 50 in layers for high dimensionality, can capture upward and downward\n",
        "regressor.add(Dropout(0.2))\n",
        "# takes arg of dropout late- num of neurons want to drop. dropping 20% of neurons to be ignored during trianingn for each iteratin. 10 neurons will be dropped out"
      ],
      "execution_count": 18,
      "outputs": []
    },
    {
      "metadata": {
        "id": "xMTvkPLtvz4r"
      },
      "cell_type": "code",
      "source": [
        "# Adding a second LSTM layer and some Dropout regularisation\n",
        "# total of 4 layers, simply need to copy, only change is input shape so dont need to specify that, automatically recognised through input shape\n",
        "\n",
        "regressor.add(LSTM(units = 50, return_sequences = True)) \n",
        "\n",
        "regressor.add(Dropout(0.2))"
      ],
      "execution_count": 19,
      "outputs": []
    },
    {
      "metadata": {
        "id": "DwZjs53zv0K1"
      },
      "cell_type": "code",
      "source": [
        "# Adding a third LSTM layer and some Dropout regularisation\n",
        "# same as second layer \n",
        "regressor.add(LSTM(units = 50, return_sequences = True))\n",
        "regressor.add(Dropout(0.2))"
      ],
      "execution_count": 20,
      "outputs": []
    },
    {
      "metadata": {
        "id": "TqAm5r3_v9b-"
      },
      "cell_type": "code",
      "source": [
        "# Adding a fourth LSTM layer and some Dropout regularisation\n",
        "# almost same, but return sequence is false because it is the last lstm layer (so it is removed becasue default is false)\n",
        "regressor.add(LSTM(units = 50))\n",
        "regressor.add(Dropout(0.2))"
      ],
      "execution_count": 21,
      "outputs": []
    },
    {
      "metadata": {
        "id": "GyBA3V_WwAP5"
      },
      "cell_type": "code",
      "source": [
        "# Adding the output layer\n",
        "#add fully connected layer through dense class- dimesion/units/neurons is 1\n",
        "regressor.add(Dense(units = 1))"
      ],
      "execution_count": 22,
      "outputs": []
    },
    {
      "metadata": {
        "id": "F_GkymP6wAbZ"
      },
      "cell_type": "code",
      "source": [
        "# Compiling the RNN\n",
        "#regressior because predicting continuous value, \n",
        "regressor.compile(optimizer = 'adam', loss = 'mean_squared_error')"
      ],
      "execution_count": 23,
      "outputs": []
    },
    {
      "metadata": {
        "id": "s__QxkRNwHRO",
        "outputId": "9a20d0a8-1946-4db8-bbde-6d050188cc8f",
        "colab": {
          "base_uri": "https://localhost:8080/"
        }
      },
      "cell_type": "code",
      "source": [
        "# Fitting the RNN to the Training set\n",
        "#have not made connection to training set, training will take place\n",
        "regressor.fit(X_train, y_train, epochs = 200, batch_size = 32) # CHANGE BACK TO 100 IF NOT WORK\n",
        "#100 gives good convergence\n",
        "# trained on certain batch sizes, "
      ],
      "execution_count": 24,
      "outputs": [
        {
          "output_type": "stream",
          "name": "stdout",
          "text": [
            "Epoch 1/200\n",
            "38/38 [==============================] - 13s 61ms/step - loss: 0.0368\n",
            "Epoch 2/200\n",
            "38/38 [==============================] - 2s 61ms/step - loss: 0.0058\n",
            "Epoch 3/200\n",
            "38/38 [==============================] - 2s 61ms/step - loss: 0.0057\n",
            "Epoch 4/200\n",
            "38/38 [==============================] - 2s 61ms/step - loss: 0.0057\n",
            "Epoch 5/200\n",
            "38/38 [==============================] - 2s 60ms/step - loss: 0.0051\n",
            "Epoch 6/200\n",
            "38/38 [==============================] - 2s 61ms/step - loss: 0.0055\n",
            "Epoch 7/200\n",
            "38/38 [==============================] - 2s 61ms/step - loss: 0.0053\n",
            "Epoch 8/200\n",
            "38/38 [==============================] - 2s 61ms/step - loss: 0.0041\n",
            "Epoch 9/200\n",
            "38/38 [==============================] - 2s 60ms/step - loss: 0.0048\n",
            "Epoch 10/200\n",
            "38/38 [==============================] - 2s 61ms/step - loss: 0.0044\n",
            "Epoch 11/200\n",
            "38/38 [==============================] - 2s 61ms/step - loss: 0.0048\n",
            "Epoch 12/200\n",
            "38/38 [==============================] - 2s 61ms/step - loss: 0.0039\n",
            "Epoch 13/200\n",
            "38/38 [==============================] - 2s 61ms/step - loss: 0.0046\n",
            "Epoch 14/200\n",
            "38/38 [==============================] - 2s 61ms/step - loss: 0.0039\n",
            "Epoch 15/200\n",
            "38/38 [==============================] - 2s 61ms/step - loss: 0.0039\n",
            "Epoch 16/200\n",
            "38/38 [==============================] - 2s 63ms/step - loss: 0.0036\n",
            "Epoch 17/200\n",
            "38/38 [==============================] - 2s 62ms/step - loss: 0.0048\n",
            "Epoch 18/200\n",
            "38/38 [==============================] - 2s 61ms/step - loss: 0.0035\n",
            "Epoch 19/200\n",
            "38/38 [==============================] - 2s 61ms/step - loss: 0.0039\n",
            "Epoch 20/200\n",
            "38/38 [==============================] - 2s 61ms/step - loss: 0.0038\n",
            "Epoch 21/200\n",
            "38/38 [==============================] - 2s 62ms/step - loss: 0.0033\n",
            "Epoch 22/200\n",
            "38/38 [==============================] - 2s 60ms/step - loss: 0.0037\n",
            "Epoch 23/200\n",
            "38/38 [==============================] - 2s 60ms/step - loss: 0.0035\n",
            "Epoch 24/200\n",
            "38/38 [==============================] - 2s 64ms/step - loss: 0.0029\n",
            "Epoch 25/200\n",
            "38/38 [==============================] - 2s 61ms/step - loss: 0.0032\n",
            "Epoch 26/200\n",
            "38/38 [==============================] - 2s 61ms/step - loss: 0.0033\n",
            "Epoch 27/200\n",
            "38/38 [==============================] - 2s 60ms/step - loss: 0.0034\n",
            "Epoch 28/200\n",
            "38/38 [==============================] - 2s 61ms/step - loss: 0.0029\n",
            "Epoch 29/200\n",
            "38/38 [==============================] - 2s 61ms/step - loss: 0.0030\n",
            "Epoch 30/200\n",
            "38/38 [==============================] - 2s 62ms/step - loss: 0.0034\n",
            "Epoch 31/200\n",
            "38/38 [==============================] - 2s 61ms/step - loss: 0.0030\n",
            "Epoch 32/200\n",
            "38/38 [==============================] - 2s 62ms/step - loss: 0.0036\n",
            "Epoch 33/200\n",
            "38/38 [==============================] - 2s 61ms/step - loss: 0.0031\n",
            "Epoch 34/200\n",
            "38/38 [==============================] - 2s 61ms/step - loss: 0.0031\n",
            "Epoch 35/200\n",
            "38/38 [==============================] - 2s 61ms/step - loss: 0.0029\n",
            "Epoch 36/200\n",
            "38/38 [==============================] - 2s 61ms/step - loss: 0.0027\n",
            "Epoch 37/200\n",
            "38/38 [==============================] - 2s 61ms/step - loss: 0.0031\n",
            "Epoch 38/200\n",
            "38/38 [==============================] - 2s 61ms/step - loss: 0.0024\n",
            "Epoch 39/200\n",
            "38/38 [==============================] - 2s 61ms/step - loss: 0.0031\n",
            "Epoch 40/200\n",
            "38/38 [==============================] - 2s 61ms/step - loss: 0.0029\n",
            "Epoch 41/200\n",
            "38/38 [==============================] - 2s 61ms/step - loss: 0.0027\n",
            "Epoch 42/200\n",
            "38/38 [==============================] - 2s 61ms/step - loss: 0.0026\n",
            "Epoch 43/200\n",
            "38/38 [==============================] - 2s 61ms/step - loss: 0.0027\n",
            "Epoch 44/200\n",
            "38/38 [==============================] - 2s 61ms/step - loss: 0.0026\n",
            "Epoch 45/200\n",
            "38/38 [==============================] - 2s 60ms/step - loss: 0.0024\n",
            "Epoch 46/200\n",
            "38/38 [==============================] - 2s 61ms/step - loss: 0.0026\n",
            "Epoch 47/200\n",
            "38/38 [==============================] - 2s 61ms/step - loss: 0.0027\n",
            "Epoch 48/200\n",
            "38/38 [==============================] - 2s 60ms/step - loss: 0.0025\n",
            "Epoch 49/200\n",
            "38/38 [==============================] - 2s 64ms/step - loss: 0.0027\n",
            "Epoch 50/200\n",
            "38/38 [==============================] - 2s 61ms/step - loss: 0.0028\n",
            "Epoch 51/200\n",
            "38/38 [==============================] - 2s 61ms/step - loss: 0.0021\n",
            "Epoch 52/200\n",
            "38/38 [==============================] - 2s 61ms/step - loss: 0.0023\n",
            "Epoch 53/200\n",
            "38/38 [==============================] - 2s 61ms/step - loss: 0.0026\n",
            "Epoch 54/200\n",
            "38/38 [==============================] - 2s 60ms/step - loss: 0.0022\n",
            "Epoch 55/200\n",
            "38/38 [==============================] - 2s 62ms/step - loss: 0.0023\n",
            "Epoch 56/200\n",
            "38/38 [==============================] - 2s 61ms/step - loss: 0.0021\n",
            "Epoch 57/200\n",
            "38/38 [==============================] - 2s 61ms/step - loss: 0.0023\n",
            "Epoch 58/200\n",
            "38/38 [==============================] - 2s 61ms/step - loss: 0.0021\n",
            "Epoch 59/200\n",
            "38/38 [==============================] - 2s 61ms/step - loss: 0.0019\n",
            "Epoch 60/200\n",
            "38/38 [==============================] - 2s 61ms/step - loss: 0.0020\n",
            "Epoch 61/200\n",
            "38/38 [==============================] - 2s 61ms/step - loss: 0.0020\n",
            "Epoch 62/200\n",
            "38/38 [==============================] - 2s 60ms/step - loss: 0.0021\n",
            "Epoch 63/200\n",
            "38/38 [==============================] - 2s 60ms/step - loss: 0.0024\n",
            "Epoch 64/200\n",
            "38/38 [==============================] - 2s 61ms/step - loss: 0.0022\n",
            "Epoch 65/200\n",
            "38/38 [==============================] - 2s 61ms/step - loss: 0.0020\n",
            "Epoch 66/200\n",
            "38/38 [==============================] - 2s 60ms/step - loss: 0.0021\n",
            "Epoch 67/200\n",
            "38/38 [==============================] - 2s 61ms/step - loss: 0.0020\n",
            "Epoch 68/200\n",
            "38/38 [==============================] - 2s 61ms/step - loss: 0.0018\n",
            "Epoch 69/200\n",
            "38/38 [==============================] - 2s 61ms/step - loss: 0.0019\n",
            "Epoch 70/200\n",
            "38/38 [==============================] - 2s 61ms/step - loss: 0.0020\n",
            "Epoch 71/200\n",
            "38/38 [==============================] - 2s 61ms/step - loss: 0.0020\n",
            "Epoch 72/200\n",
            "38/38 [==============================] - 2s 60ms/step - loss: 0.0018\n",
            "Epoch 73/200\n",
            "38/38 [==============================] - 2s 61ms/step - loss: 0.0019\n",
            "Epoch 74/200\n",
            "38/38 [==============================] - 2s 60ms/step - loss: 0.0018\n",
            "Epoch 75/200\n",
            "38/38 [==============================] - 2s 61ms/step - loss: 0.0017\n",
            "Epoch 76/200\n",
            "38/38 [==============================] - 2s 61ms/step - loss: 0.0018\n",
            "Epoch 77/200\n",
            "38/38 [==============================] - 2s 61ms/step - loss: 0.0016\n",
            "Epoch 78/200\n",
            "38/38 [==============================] - 2s 61ms/step - loss: 0.0018\n",
            "Epoch 79/200\n",
            "38/38 [==============================] - 2s 61ms/step - loss: 0.0017\n",
            "Epoch 80/200\n",
            "38/38 [==============================] - 2s 61ms/step - loss: 0.0017\n",
            "Epoch 81/200\n",
            "38/38 [==============================] - 2s 61ms/step - loss: 0.0017\n",
            "Epoch 82/200\n",
            "38/38 [==============================] - 2s 60ms/step - loss: 0.0016\n",
            "Epoch 83/200\n",
            "38/38 [==============================] - 2s 61ms/step - loss: 0.0016\n",
            "Epoch 84/200\n",
            "38/38 [==============================] - 2s 61ms/step - loss: 0.0019\n",
            "Epoch 85/200\n",
            "38/38 [==============================] - 2s 60ms/step - loss: 0.0018\n",
            "Epoch 86/200\n",
            "38/38 [==============================] - 2s 61ms/step - loss: 0.0020\n",
            "Epoch 87/200\n",
            "38/38 [==============================] - 2s 61ms/step - loss: 0.0016\n",
            "Epoch 88/200\n",
            "38/38 [==============================] - 2s 61ms/step - loss: 0.0016\n",
            "Epoch 89/200\n",
            "38/38 [==============================] - 2s 61ms/step - loss: 0.0016\n",
            "Epoch 90/200\n",
            "38/38 [==============================] - 2s 61ms/step - loss: 0.0014\n",
            "Epoch 91/200\n",
            "38/38 [==============================] - 2s 60ms/step - loss: 0.0014\n",
            "Epoch 92/200\n",
            "38/38 [==============================] - 2s 61ms/step - loss: 0.0016\n",
            "Epoch 93/200\n",
            "38/38 [==============================] - 2s 61ms/step - loss: 0.0015\n",
            "Epoch 94/200\n",
            "38/38 [==============================] - 2s 61ms/step - loss: 0.0016\n",
            "Epoch 95/200\n",
            "38/38 [==============================] - 2s 61ms/step - loss: 0.0015\n",
            "Epoch 96/200\n",
            "38/38 [==============================] - 2s 61ms/step - loss: 0.0015\n",
            "Epoch 97/200\n",
            "38/38 [==============================] - 2s 61ms/step - loss: 0.0016\n",
            "Epoch 98/200\n",
            "38/38 [==============================] - 2s 62ms/step - loss: 0.0015\n",
            "Epoch 99/200\n",
            "38/38 [==============================] - 2s 62ms/step - loss: 0.0015\n",
            "Epoch 100/200\n",
            "38/38 [==============================] - 2s 61ms/step - loss: 0.0014\n",
            "Epoch 101/200\n",
            "38/38 [==============================] - 2s 61ms/step - loss: 0.0014\n",
            "Epoch 102/200\n",
            "38/38 [==============================] - 2s 61ms/step - loss: 0.0014\n",
            "Epoch 103/200\n",
            "38/38 [==============================] - 2s 61ms/step - loss: 0.0013\n",
            "Epoch 104/200\n",
            "38/38 [==============================] - 2s 61ms/step - loss: 0.0015\n",
            "Epoch 105/200\n",
            "38/38 [==============================] - 2s 61ms/step - loss: 0.0014\n",
            "Epoch 106/200\n",
            "38/38 [==============================] - 2s 61ms/step - loss: 0.0015\n",
            "Epoch 107/200\n",
            "38/38 [==============================] - 2s 61ms/step - loss: 0.0015\n",
            "Epoch 108/200\n",
            "38/38 [==============================] - 2s 61ms/step - loss: 0.0013\n",
            "Epoch 109/200\n",
            "38/38 [==============================] - 2s 61ms/step - loss: 0.0014\n",
            "Epoch 110/200\n",
            "38/38 [==============================] - 2s 62ms/step - loss: 0.0012\n",
            "Epoch 111/200\n",
            "38/38 [==============================] - 2s 61ms/step - loss: 0.0014\n",
            "Epoch 112/200\n",
            "38/38 [==============================] - 2s 62ms/step - loss: 0.0013\n",
            "Epoch 113/200\n",
            "38/38 [==============================] - 2s 61ms/step - loss: 0.0011\n",
            "Epoch 114/200\n",
            "38/38 [==============================] - 2s 62ms/step - loss: 0.0013\n",
            "Epoch 115/200\n",
            "38/38 [==============================] - 2s 60ms/step - loss: 0.0014\n",
            "Epoch 116/200\n",
            "38/38 [==============================] - 2s 62ms/step - loss: 0.0012\n",
            "Epoch 117/200\n",
            "38/38 [==============================] - 2s 60ms/step - loss: 0.0014\n",
            "Epoch 118/200\n",
            "38/38 [==============================] - 2s 60ms/step - loss: 0.0013\n",
            "Epoch 119/200\n",
            "38/38 [==============================] - 2s 62ms/step - loss: 0.0014\n",
            "Epoch 120/200\n",
            "38/38 [==============================] - 2s 61ms/step - loss: 0.0013\n",
            "Epoch 121/200\n",
            "38/38 [==============================] - 2s 61ms/step - loss: 0.0013\n",
            "Epoch 122/200\n",
            "38/38 [==============================] - 2s 60ms/step - loss: 0.0011\n",
            "Epoch 123/200\n",
            "38/38 [==============================] - 2s 62ms/step - loss: 0.0014\n",
            "Epoch 124/200\n",
            "38/38 [==============================] - 2s 61ms/step - loss: 0.0013\n",
            "Epoch 125/200\n",
            "38/38 [==============================] - 2s 61ms/step - loss: 0.0011\n",
            "Epoch 126/200\n",
            "38/38 [==============================] - 2s 61ms/step - loss: 0.0013\n",
            "Epoch 127/200\n",
            "38/38 [==============================] - 2s 61ms/step - loss: 0.0011\n",
            "Epoch 128/200\n",
            "38/38 [==============================] - 2s 61ms/step - loss: 0.0012\n",
            "Epoch 129/200\n",
            "38/38 [==============================] - 2s 60ms/step - loss: 0.0013\n",
            "Epoch 130/200\n",
            "38/38 [==============================] - 2s 60ms/step - loss: 0.0013\n",
            "Epoch 131/200\n",
            "38/38 [==============================] - 2s 61ms/step - loss: 0.0012\n",
            "Epoch 132/200\n",
            "38/38 [==============================] - 2s 62ms/step - loss: 0.0011\n",
            "Epoch 133/200\n",
            "38/38 [==============================] - 2s 61ms/step - loss: 0.0012\n",
            "Epoch 134/200\n",
            "38/38 [==============================] - 2s 62ms/step - loss: 0.0013\n",
            "Epoch 135/200\n",
            "38/38 [==============================] - 2s 62ms/step - loss: 0.0012\n",
            "Epoch 136/200\n",
            "38/38 [==============================] - 2s 61ms/step - loss: 0.0012\n",
            "Epoch 137/200\n",
            "38/38 [==============================] - 2s 62ms/step - loss: 0.0011\n",
            "Epoch 138/200\n",
            "38/38 [==============================] - 2s 62ms/step - loss: 0.0013\n",
            "Epoch 139/200\n",
            "38/38 [==============================] - 2s 61ms/step - loss: 0.0011\n",
            "Epoch 140/200\n",
            "38/38 [==============================] - 2s 62ms/step - loss: 0.0012\n",
            "Epoch 141/200\n",
            "38/38 [==============================] - 2s 62ms/step - loss: 0.0012\n",
            "Epoch 142/200\n",
            "38/38 [==============================] - 2s 62ms/step - loss: 0.0011\n",
            "Epoch 143/200\n",
            "38/38 [==============================] - 2s 61ms/step - loss: 0.0013\n",
            "Epoch 144/200\n",
            "38/38 [==============================] - 2s 61ms/step - loss: 0.0011\n",
            "Epoch 145/200\n",
            "38/38 [==============================] - 2s 61ms/step - loss: 0.0010\n",
            "Epoch 146/200\n",
            "38/38 [==============================] - 2s 61ms/step - loss: 0.0012\n",
            "Epoch 147/200\n",
            "38/38 [==============================] - 2s 61ms/step - loss: 0.0012\n",
            "Epoch 148/200\n",
            "38/38 [==============================] - 2s 61ms/step - loss: 0.0011\n",
            "Epoch 149/200\n",
            "38/38 [==============================] - 2s 61ms/step - loss: 0.0011\n",
            "Epoch 150/200\n",
            "38/38 [==============================] - 2s 61ms/step - loss: 0.0011\n",
            "Epoch 151/200\n",
            "38/38 [==============================] - 2s 61ms/step - loss: 0.0011\n",
            "Epoch 152/200\n",
            "38/38 [==============================] - 2s 61ms/step - loss: 0.0011\n",
            "Epoch 153/200\n",
            "38/38 [==============================] - 2s 61ms/step - loss: 0.0011\n",
            "Epoch 154/200\n",
            "38/38 [==============================] - 2s 61ms/step - loss: 0.0010\n",
            "Epoch 155/200\n",
            "38/38 [==============================] - 2s 62ms/step - loss: 0.0012\n",
            "Epoch 156/200\n",
            "38/38 [==============================] - 2s 61ms/step - loss: 0.0011\n",
            "Epoch 157/200\n",
            "38/38 [==============================] - 2s 61ms/step - loss: 0.0013\n",
            "Epoch 158/200\n",
            "38/38 [==============================] - 2s 62ms/step - loss: 0.0012\n",
            "Epoch 159/200\n",
            "38/38 [==============================] - 2s 61ms/step - loss: 0.0011\n",
            "Epoch 160/200\n",
            "38/38 [==============================] - 2s 61ms/step - loss: 0.0012\n",
            "Epoch 161/200\n",
            "38/38 [==============================] - 2s 60ms/step - loss: 0.0011\n",
            "Epoch 162/200\n",
            "38/38 [==============================] - 2s 62ms/step - loss: 9.9213e-04\n",
            "Epoch 163/200\n",
            "38/38 [==============================] - 2s 61ms/step - loss: 0.0011\n",
            "Epoch 164/200\n",
            "38/38 [==============================] - 2s 62ms/step - loss: 9.9437e-04\n",
            "Epoch 165/200\n",
            "38/38 [==============================] - 2s 61ms/step - loss: 0.0010\n",
            "Epoch 166/200\n",
            "38/38 [==============================] - 2s 62ms/step - loss: 0.0011\n",
            "Epoch 167/200\n",
            "38/38 [==============================] - 2s 62ms/step - loss: 0.0012\n",
            "Epoch 168/200\n",
            "38/38 [==============================] - 2s 61ms/step - loss: 0.0011\n",
            "Epoch 169/200\n",
            "38/38 [==============================] - 2s 61ms/step - loss: 0.0011\n",
            "Epoch 170/200\n",
            "38/38 [==============================] - 2s 61ms/step - loss: 0.0011\n",
            "Epoch 171/200\n",
            "38/38 [==============================] - 2s 62ms/step - loss: 9.8171e-04\n",
            "Epoch 172/200\n",
            "38/38 [==============================] - 2s 62ms/step - loss: 9.5282e-04\n",
            "Epoch 173/200\n",
            "38/38 [==============================] - 2s 62ms/step - loss: 0.0011\n",
            "Epoch 174/200\n",
            "38/38 [==============================] - 2s 61ms/step - loss: 0.0011\n",
            "Epoch 175/200\n",
            "38/38 [==============================] - 2s 62ms/step - loss: 9.9878e-04\n",
            "Epoch 176/200\n",
            "38/38 [==============================] - 2s 61ms/step - loss: 0.0011\n",
            "Epoch 177/200\n",
            "38/38 [==============================] - 2s 61ms/step - loss: 0.0011\n",
            "Epoch 178/200\n",
            "38/38 [==============================] - 2s 62ms/step - loss: 0.0011\n",
            "Epoch 179/200\n",
            "38/38 [==============================] - 2s 62ms/step - loss: 0.0011\n",
            "Epoch 180/200\n",
            "38/38 [==============================] - 2s 61ms/step - loss: 9.4301e-04\n",
            "Epoch 181/200\n",
            "38/38 [==============================] - 2s 62ms/step - loss: 0.0011\n",
            "Epoch 182/200\n",
            "38/38 [==============================] - 2s 62ms/step - loss: 0.0011\n",
            "Epoch 183/200\n",
            "38/38 [==============================] - 2s 62ms/step - loss: 0.0013\n",
            "Epoch 184/200\n",
            "38/38 [==============================] - 2s 61ms/step - loss: 8.7772e-04\n",
            "Epoch 185/200\n",
            "38/38 [==============================] - 2s 61ms/step - loss: 0.0011\n",
            "Epoch 186/200\n",
            "38/38 [==============================] - 2s 62ms/step - loss: 0.0010\n",
            "Epoch 187/200\n",
            "38/38 [==============================] - 2s 62ms/step - loss: 0.0013\n",
            "Epoch 188/200\n",
            "38/38 [==============================] - 2s 62ms/step - loss: 0.0012\n",
            "Epoch 189/200\n",
            "38/38 [==============================] - 2s 62ms/step - loss: 9.5110e-04\n",
            "Epoch 190/200\n",
            "38/38 [==============================] - 2s 62ms/step - loss: 9.8161e-04\n",
            "Epoch 191/200\n",
            "38/38 [==============================] - 2s 62ms/step - loss: 0.0012\n",
            "Epoch 192/200\n",
            "38/38 [==============================] - 2s 62ms/step - loss: 9.2065e-04\n",
            "Epoch 193/200\n",
            "38/38 [==============================] - 2s 61ms/step - loss: 9.5110e-04\n",
            "Epoch 194/200\n",
            "38/38 [==============================] - 2s 62ms/step - loss: 0.0010\n",
            "Epoch 195/200\n",
            "38/38 [==============================] - 2s 62ms/step - loss: 0.0011\n",
            "Epoch 196/200\n",
            "38/38 [==============================] - 2s 61ms/step - loss: 0.0011\n",
            "Epoch 197/200\n",
            "38/38 [==============================] - 2s 62ms/step - loss: 0.0010\n",
            "Epoch 198/200\n",
            "38/38 [==============================] - 2s 61ms/step - loss: 0.0010\n",
            "Epoch 199/200\n",
            "38/38 [==============================] - 2s 62ms/step - loss: 0.0010\n",
            "Epoch 200/200\n",
            "38/38 [==============================] - 2s 62ms/step - loss: 0.0011\n"
          ]
        },
        {
          "output_type": "execute_result",
          "data": {
            "text/plain": [
              "<keras.callbacks.History at 0x7efe564ead10>"
            ]
          },
          "metadata": {},
          "execution_count": 24
        }
      ]
    },
    {
      "metadata": {
        "id": "GHac1P0e5U4G"
      },
      "cell_type": "markdown",
      "source": [
        "Part 3 - Making the predictions and visualising the results"
      ]
    },
    {
      "metadata": {
        "id": "9A6R2mXldQk9"
      },
      "cell_type": "code",
      "source": [
        "# Getting the real stock price of 2018\n",
        "dataset_test = pd.read_csv('https://raw.githubusercontent.com/Parasgr7/Google-Stock-Price-Prediction/master/Google_Stock_Price_Train.csv')\n",
        "real_stock_price = dataset_test.iloc[:, 1:2].values"
      ],
      "execution_count": 31,
      "outputs": []
    },
    {
      "cell_type": "code",
      "source": [
        "dataset_test.shape"
      ],
      "metadata": {
        "colab": {
          "base_uri": "https://localhost:8080/"
        },
        "id": "ipi7wTUiITHR",
        "outputId": "9569b461-8ca9-41d6-d1fc-7f90956450e5"
      },
      "execution_count": 32,
      "outputs": [
        {
          "output_type": "execute_result",
          "data": {
            "text/plain": [
              "(1258, 6)"
            ]
          },
          "metadata": {},
          "execution_count": 32
        }
      ]
    },
    {
      "metadata": {
        "id": "419ZQNSFwHf5"
      },
      "cell_type": "code",
      "source": [
        "# Getting the predicted stock price of 2018\n",
        "dataset_total = pd.concat((dataset_train['Open'], dataset_test['Open']), axis = 0)\n",
        "inputs = dataset_total[len(dataset_total) - len(dataset_test) - 60:].values #getting input of each previous financial days\n",
        "inputs = inputs.reshape(-1,1)\n",
        "inputs = sc.transform(inputs)\n",
        "X_test = []\n",
        "for i in range(60, 1258):\n",
        "    X_test.append(inputs[i-60:i, 0])\n",
        "X_test = np.array(X_test)\n",
        "X_test = np.reshape(X_test, (X_test.shape[0], X_test.shape[1], 1))\n",
        "predicted_stock_price = regressor.predict(X_test)\n",
        "predicted_stock_price = sc.inverse_transform(predicted_stock_price)\n"
      ],
      "execution_count": 33,
      "outputs": []
    },
    {
      "metadata": {
        "id": "skhdvmCywHrr",
        "outputId": "34dbe5b1-cac7-490a-c023-c6466b8f3320",
        "colab": {
          "base_uri": "https://localhost:8080/",
          "height": 295
        }
      },
      "cell_type": "code",
      "source": [
        "# Visualising the results\n",
        "plt.plot(real_stock_price, color = 'red', label = 'Real Google Stock Price')\n",
        "plt.plot(predicted_stock_price, color = 'blue', label = 'Predicted Google Stock Price')\n",
        "plt.title('Google Stock Price Prediction')\n",
        "plt.xlabel('Time')\n",
        "plt.ylabel('Google Stock Price')\n",
        "plt.legend()\n",
        "plt.show()"
      ],
      "execution_count": 34,
      "outputs": [
        {
          "output_type": "display_data",
          "data": {
            "image/png": "[encoded data removed]",
            "text/plain": [
              "<Figure size 432x288 with 1 Axes>"
            ]
          },
          "metadata": {
            "needs_background": "light"
          }
        }
      ]
    }
  ]
}